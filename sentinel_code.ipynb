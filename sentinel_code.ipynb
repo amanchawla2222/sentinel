{
 "cells": [
  {
   "cell_type": "markdown",
   "id": "1d3063fe",
   "metadata": {},
   "source": [
    "This is a python notebook, can be used in Jypyter notebook for downloading the sentinel 2 imagery\n",
    "\n",
    "Prerequisites:\n",
    "\n",
    "1: Install sentinel and geopandas python module using pip or conda in the environment \n",
    "\n",
    "2: Download and place the required area of interest shapfile and define the directory in the script \n",
    "\n",
    "3: Create a account over https://scihub.copernicus.eu/userguide/SelfRegistration and generate username and password to work with API and define those as parameter in script."
   ]
  },
  {
   "cell_type": "code",
   "execution_count": null,
   "id": "bb5561f5",
   "metadata": {},
   "outputs": [],
   "source": [
    "#importing modules\n",
    "from sentinelsat import SentinelAPI, read_geojson, geojson_to_wkt\n",
    "from datetime import date\n",
    "import geopandas as gpd\n",
    "from shapely.geometry import Polygon\n",
    "\n",
    "#define variables\n",
    "username= #\n",
    "password= #\n",
    "\n",
    "#setting up connection\n",
    "api = SentinelAPI(username, password, 'https://scihub.copernicus.eu/dhus')\n",
    "\n",
    "#reading shapefile  ##put the directory of shapefile as parameter\n",
    "shapefile = gpd.read_file(\"india_2011_district\\india_2011_district.shp\")\n",
    "\n",
    "#selecting the district \n",
    "file = shapefile[shapefile['district']=='Visakhapatnam']\n",
    "\n",
    "#simplifying the geometry for easy use & converting shapefile to geojson\n",
    "shape = gpd.GeoSeries(file['geometry'])\n",
    "simplifiedShape = shape.simplify(1)\n",
    "jsonShape = simplifiedShape.__geo_interface__\n",
    "\n",
    "#query over api to find the imagery\n",
    "footprint = geojson_to_wkt(jsonShape)\n",
    "products = api.query(footprint,platformname='Sentinel-2')\n",
    "\n",
    "#downloading of the imagery\n",
    "api.download_all(products)\n",
    "\n"
   ]
  }
 ],
 "metadata": {
  "kernelspec": {
   "display_name": "Python 3 (ipykernel)",
   "language": "python",
   "name": "python3"
  },
  "language_info": {
   "codemirror_mode": {
    "name": "ipython",
    "version": 3
   },
   "file_extension": ".py",
   "mimetype": "text/x-python",
   "name": "python",
   "nbconvert_exporter": "python",
   "pygments_lexer": "ipython3",
   "version": "3.9.12"
  }
 },
 "nbformat": 4,
 "nbformat_minor": 5
}
